{
 "cells": [
  {
   "cell_type": "markdown",
   "metadata": {},
   "source": [
    "# Introduction to Python and Jupyter Notebook"
   ]
  },
  {
   "cell_type": "markdown",
   "metadata": {},
   "source": [
    "Reference: <br>\n",
    "    University of College London Python lecture note <br>\n",
    "    MIT Python lecture note <br>\n",
    "    Scipy lecture notes (http://scipy-lectures.org/index.html)\n",
    "    Jupyter Notebook: https://jupyter.org"
   ]
  },
  {
   "cell_type": "markdown",
   "metadata": {},
   "source": [
    "## What is programing?"
   ]
  },
  {
   "cell_type": "markdown",
   "metadata": {},
   "source": [
    "- The process of creating computer programs. \n",
    "- Everything runnign on your computer is a program. \n",
    "- Every program is a piece of specifically written text, called the \"source code\". \n",
    "- Programming is simply writing text, which will get excuted by your computer. "
   ]
  },
  {
   "cell_type": "markdown",
   "metadata": {},
   "source": [
    "## When is programming useful?"
   ]
  },
  {
   "cell_type": "markdown",
   "metadata": {},
   "source": [
    "- Automating a task, when they are repetitive or error prone. \n",
    "- Analysing, creatomg plots automatically. \n",
    "- Mathematics/simulation heavy tasks. "
   ]
  },
  {
   "cell_type": "markdown",
   "metadata": {},
   "source": [
    "## What is Python?"
   ]
  },
  {
   "cell_type": "markdown",
   "metadata": {},
   "source": [
    "- Created to be general-purpose, high-level programming language.\n",
    "- A “fun to use” language, hence named after Monty Python’s Flying Circus. \n",
    "- Combines “remarkable power with very clear syntax” and provides a large and comprehensive standard library. \n",
    "- The “standard library” is a collection of code already written and directly available to you.\n",
    "- That’s a good thing: it means people have written code for most applications you could be thinking of. "
   ]
  },
  {
   "cell_type": "markdown",
   "metadata": {},
   "source": [
    "## Why learn Python?"
   ]
  },
  {
   "cell_type": "markdown",
   "metadata": {},
   "source": [
    "- Very clear and readable syntax. \n",
    "- Extensive standard libraries and modules for virtually every task. \n",
    "- High-level, easy to use datatypes, such as flexible arrays and dictionaries. \n",
    "- Interpreted language - no compilation1 is necessary Easy to switch to another language later. \n",
    ">compilation is the process of translating source code into machine code a computer can run. "
   ]
  },
  {
   "cell_type": "markdown",
   "metadata": {},
   "source": [
    "## Python installation"
   ]
  },
  {
   "cell_type": "markdown",
   "metadata": {},
   "source": [
    "### For the class, we will use Brown-provided server, so you don't have to worry about installing Python."
   ]
  },
  {
   "cell_type": "markdown",
   "metadata": {},
   "source": [
    "I found that using the Anaconda Python works best: https://www.anaconda.com/distribution/  \n",
    "\n",
    "(If you don't have enough space in your computer, you can install miniconda: https://docs.conda.io/en/latest/miniconda.html)\n",
    "\n",
    "To manage Python packages: https://docs.conda.io/projects/conda/en/latest/user-guide/tasks/manage-pkgs.html\n",
    "\n",
    "The modules that we will be using are: numpy, scipy, matplotlib, cartopy, netCDF4, pandas\n",
    "\n",
    "We will write and execute Python code using jupyter notebook: https://jupyter.org\n",
    "\n",
    "> If you installed Anaconda, it comes with Jupyter Notebook.)\n",
    "\n",
    "> If you only install miniconda, you have to install Jupyter notebook in the terminal(Mac or Linux) or an Anaconda Prompt (Windows) by typing:\n",
    "    conda install -c anaconda jupyter \n",
    "\n"
   ]
  },
  {
   "cell_type": "markdown",
   "metadata": {},
   "source": [
    "### Extra point (+1)\n",
    "Install Python on your own computer, add the screenshots of Jupyter Notebook in your submission."
   ]
  },
  {
   "cell_type": "markdown",
   "metadata": {},
   "source": [
    "### First program: Print \"Hello, World\" "
   ]
  },
  {
   "cell_type": "code",
   "execution_count": 1,
   "metadata": {},
   "outputs": [
    {
     "name": "stdout",
     "output_type": "stream",
     "text": [
      "Hellow, World\n"
     ]
    }
   ],
   "source": [
    "print(\"Hellow, World\")"
   ]
  },
  {
   "cell_type": "markdown",
   "metadata": {},
   "source": [
    "The print( ) function prints the specified message to the screen."
   ]
  },
  {
   "cell_type": "markdown",
   "metadata": {},
   "source": [
    "### Exercise"
   ]
  },
  {
   "cell_type": "markdown",
   "metadata": {},
   "source": [
    "In the cell below, write a program that prints your name (e.g., My name is Jung-Eun.)"
   ]
  },
  {
   "cell_type": "code",
   "execution_count": null,
   "metadata": {},
   "outputs": [],
   "source": []
  },
  {
   "cell_type": "markdown",
   "metadata": {},
   "source": [
    "## Python basics"
   ]
  },
  {
   "cell_type": "markdown",
   "metadata": {},
   "source": [
    "We can use Python as a simple calculater. Type the euation that you'd like to solve and run the cell."
   ]
  },
  {
   "cell_type": "code",
   "execution_count": 5,
   "metadata": {},
   "outputs": [
    {
     "data": {
      "text/plain": [
       "4"
      ]
     },
     "execution_count": 5,
     "metadata": {},
     "output_type": "execute_result"
    }
   ],
   "source": [
    "2+2"
   ]
  },
  {
   "cell_type": "markdown",
   "metadata": {},
   "source": [
    "#### Exercise\n",
    "Calculate (50-5*6)/4 in the following cell."
   ]
  },
  {
   "cell_type": "code",
   "execution_count": null,
   "metadata": {},
   "outputs": [],
   "source": []
  },
  {
   "cell_type": "markdown",
   "metadata": {},
   "source": [
    "## Operations\n",
    "Most mathematics operators are directly available:"
   ]
  },
  {
   "cell_type": "raw",
   "metadata": {},
   "source": [
    "+  :  plus\n",
    "-  :  minus\n",
    "*  :  times\n",
    "/  :  division\n",
    "** :  power (not ^)\n",
    "%  :  modulo\n",
    "== :  equal to (not =)\n",
    "!= :  not equal to\n",
    ">  :  greater than\n",
    "<  :  smaller than\n",
    ">= :  greater than or equal to\n",
    "<= :  smaller than or equal to"
   ]
  },
  {
   "cell_type": "markdown",
   "metadata": {},
   "source": [
    "> modulo returns the reminder of the division.\n",
    "\n",
    "> If you want more complex operations (e.g. sin, sqrt, log), you’ll need to use math or numpy"
   ]
  },
  {
   "cell_type": "markdown",
   "metadata": {},
   "source": [
    "### Operators precedence"
   ]
  },
  {
   "cell_type": "markdown",
   "metadata": {},
   "source": [
    "The priority between operators is the same as you’d expect mathematically. From highest to lowest precedence:"
   ]
  },
  {
   "cell_type": "raw",
   "metadata": {},
   "source": [
    "()           Terms in brackets\n",
    "**           Exponentiation\n",
    "+x -x        Unary plus and minus\n",
    "* / %        Multiply, divide, modulo\n",
    "+ -          Addition and subtraction\n",
    "<+ < > >=    Comparison operators\n",
    "== !=        Equality operators\n",
    "not or and   Logical operators\n"
   ]
  },
  {
   "cell_type": "markdown",
   "metadata": {},
   "source": [
    "## Jupyter Notebook\n",
    "The Jupyter Notebook is an interactive environment for writing and running code. Code cells allow you to enter and run code. <br>\n",
    "Run a code cell using Shift-Enter or pressing the Run button in the toolbar above."
   ]
  },
  {
   "cell_type": "markdown",
   "metadata": {},
   "source": [
    "#### Exercise\n",
    "Run the following program."
   ]
  },
  {
   "cell_type": "code",
   "execution_count": null,
   "metadata": {},
   "outputs": [],
   "source": [
    "a = 10\n",
    "print(a)"
   ]
  },
  {
   "cell_type": "markdown",
   "metadata": {},
   "source": [
    "Output is asynchronous\n",
    "\n",
    "All output is displayed asynchronously as it is generated in the Kernel. If you execute the next cell, you will see the output one piece at a time, not all at the end."
   ]
  },
  {
   "cell_type": "markdown",
   "metadata": {},
   "source": [
    "### Markdown\n",
    "Text can be added to Jupyter Notebooks using Markdown cells. You can change the cell type to Markdown by using the Cell menu, the toolbar, or the key shortcut m. Markdown is a popular markup language that is a superset of HTML. Its specification can be found here:\n",
    "https://daringfireball.net/projects/markdown/"
   ]
  },
  {
   "cell_type": "markdown",
   "metadata": {},
   "source": [
    "You can add headings by starting a line with one (or multiple) # followed by a space, as in the following example:\n",
    "\n",
    "# Heading 1\n",
    "# Heading 2\n",
    "## Heading 2.1\n",
    "## Heading 2.2"
   ]
  },
  {
   "cell_type": "markdown",
   "metadata": {},
   "source": [
    "### LaTeX equations\n",
    "\n",
    "Courtesy of MathJax, you can include mathematical expressions both inline and displayed:\n",
    "\n",
    "Inline expressions can be added by surrounding the latex code with $.\n"
   ]
  }
 ],
 "metadata": {
  "kernelspec": {
   "display_name": "Python 3",
   "language": "python",
   "name": "python3"
  },
  "language_info": {
   "codemirror_mode": {
    "name": "ipython",
    "version": 3
   },
   "file_extension": ".py",
   "mimetype": "text/x-python",
   "name": "python",
   "nbconvert_exporter": "python",
   "pygments_lexer": "ipython3",
   "version": "3.7.7"
  }
 },
 "nbformat": 4,
 "nbformat_minor": 2
}
