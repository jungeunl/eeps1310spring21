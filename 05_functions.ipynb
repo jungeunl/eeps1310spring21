{
 "cells": [
  {
   "cell_type": "markdown",
   "metadata": {},
   "source": [
    "# Functions "
   ]
  },
  {
   "cell_type": "markdown",
   "metadata": {},
   "source": [
    "Reference: <br>\n",
    "    University of College London Python lecture note <br>\n",
    "    MIT Python lecture note <br>\n",
    "    Scipy lecture notes (http://scipy-lectures.org/index.html)"
   ]
  },
  {
   "cell_type": "code",
   "execution_count": 9,
   "metadata": {},
   "outputs": [],
   "source": [
    "import numpy as np\n",
    "import matplotlib.pyplot as plt"
   ]
  },
  {
   "cell_type": "markdown",
   "metadata": {},
   "source": [
    "## Functions\n",
    "- abs( ) is an example of a function.\n",
    "- Functions have a name (here “abs”), followed by parentheses. They can take some input (here a number), do something with them and create some output (here it returns the absolute value of the number). <br>\n",
    " - Their name should usually be self-explanatory.  <br>\n",
    " - ut you can type help(abs) or abs? to see what any function does exactly.  <br>\n",
    "- They form the fundamental basis of any imperative programming language. <br>\n",
    " - Just think of them as providing you with advanced functionalities for free for now.  <br>\n",
    " - We will cover more about functions later on.\n",
    "- Functions take an input (arguments) and produce an output (return value).\n",
    " - just like mathematical functions.\n",
    "- Examples of functions:\n",
    " - Compute something for a particular input. \n",
    " - Load or save results.\n",
    " - Produce a figure or plot.\n",
    " \n",
    " Note that Python is case-sensitive.\n",
    " "
   ]
  },
  {
   "cell_type": "markdown",
   "metadata": {},
   "source": [
    "Define Functions like this:"
   ]
  },
  {
   "cell_type": "code",
   "execution_count": 1,
   "metadata": {},
   "outputs": [],
   "source": [
    "def square(x):\n",
    "    return(x*x)"
   ]
  },
  {
   "cell_type": "markdown",
   "metadata": {},
   "source": [
    "- def tells Python you are defining a function.\n",
    "- Next is the name of the function square.\n",
    "- Then you tell Python about the inputs the function takes, and give them names.\n",
    "> In our example, square is a function with just one parameter, called x"
   ]
  },
  {
   "cell_type": "markdown",
   "metadata": {},
   "source": [
    "- Define a Python function that computes the function falues."
   ]
  },
  {
   "cell_type": "code",
   "execution_count": 3,
   "metadata": {},
   "outputs": [
    {
     "name": "stdout",
     "output_type": "stream",
     "text": [
      "3 21\n"
     ]
    }
   ],
   "source": [
    "def f(x):\n",
    "    return 2*x**2 +3\n",
    "print (f(0),f(3))"
   ]
  },
  {
   "cell_type": "code",
   "execution_count": 8,
   "metadata": {},
   "outputs": [
    {
     "data": {
      "text/plain": [
       "[<matplotlib.lines.Line2D at 0x11e8860f0>]"
      ]
     },
     "execution_count": 8,
     "metadata": {},
     "output_type": "execute_result"
    },
    {
     "data": {
      "image/png": "[encoded data removed]",
      "text/plain": [
       "<Figure size 432x288 with 1 Axes>"
      ]
     },
     "metadata": {
      "needs_background": "light"
     },
     "output_type": "display_data"
    }
   ],
   "source": [
    "plt.plot([-3,0,3],[f(-3),f(0),f(3)])"
   ]
  },
  {
   "cell_type": "markdown",
   "metadata": {},
   "source": [
    "#### Exercise\n",
    "Create a function called cc with input temperature (K), temp, and returns saturation vapor pressure (hPa) es. <br>\n",
    "\n",
    "> es = 6.11* exp (17.502*T/(T+240.97)) <br>\n",
    "\n",
    "Note that T in the above equation is in Celcius. Also note that you have to numpy to calculate exponential values (np.exp( ))."
   ]
  },
  {
   "cell_type": "code",
   "execution_count": null,
   "metadata": {},
   "outputs": [],
   "source": []
  },
  {
   "cell_type": "markdown",
   "metadata": {},
   "source": [
    "Calcuate and print saturation vapor pressure at 20$\\mathrm{^o}$C."
   ]
  },
  {
   "cell_type": "code",
   "execution_count": null,
   "metadata": {},
   "outputs": [],
   "source": []
  },
  {
   "cell_type": "markdown",
   "metadata": {},
   "source": [
    "#### Exercise\n",
    "Let's Make a plot for the Clausius-Clapeyron relationship."
   ]
  },
  {
   "cell_type": "markdown",
   "metadata": {},
   "source": [
    "Create a temperature array Tc from 0 to 30, with an increment of 0.1."
   ]
  },
  {
   "cell_type": "code",
   "execution_count": null,
   "metadata": {},
   "outputs": [],
   "source": []
  },
  {
   "cell_type": "markdown",
   "metadata": {},
   "source": [
    "Create an array Ta (absolute temperature), which is Tc+273.15."
   ]
  },
  {
   "cell_type": "code",
   "execution_count": null,
   "metadata": {},
   "outputs": [],
   "source": []
  },
  {
   "cell_type": "markdown",
   "metadata": {},
   "source": [
    "Call the function cc using the input Ta and save it as es (es = ...). Note that the input can be an array or a number."
   ]
  },
  {
   "cell_type": "code",
   "execution_count": null,
   "metadata": {},
   "outputs": [],
   "source": []
  },
  {
   "cell_type": "markdown",
   "metadata": {},
   "source": [
    "Make a plot (x axis: Tc, Y axis: es) and add axes labels including units."
   ]
  },
  {
   "cell_type": "code",
   "execution_count": null,
   "metadata": {},
   "outputs": [],
   "source": []
  },
  {
   "cell_type": "markdown",
   "metadata": {},
   "source": [
    "### Advanced (optional)\n",
    "\n",
    "Plot latent heat flux for January and July averages.\n",
    "xarray.open_dataset can open and decode a dataset from a file path or an OpenDAP URL."
   ]
  },
  {
   "cell_type": "code",
   "execution_count": 70,
   "metadata": {},
   "outputs": [],
   "source": [
    "import xarray as xr\n",
    "file1='https://psl.noaa.gov/thredds/dodsC/Datasets/ncep.reanalysis2.derived/gaussian_grid/lhtfl.sfc.mon.mean.nc'"
   ]
  },
  {
   "cell_type": "code",
   "execution_count": 72,
   "metadata": {},
   "outputs": [
    {
     "name": "stdout",
     "output_type": "stream",
     "text": [
      "<xarray.Dataset>\n",
      "Dimensions:    (lat: 94, lon: 192, nbnds: 2, time: 505)\n",
      "Coordinates:\n",
      "  * lat        (lat) float32 88.54 86.65 84.75 82.85 ... -84.75 -86.65 -88.54\n",
      "  * lon        (lon) float32 0.0 1.875 3.75 5.625 ... 352.5 354.4 356.2 358.1\n",
      "  * time       (time) datetime64[ns] 1979-01-01 1979-02-01 ... 2021-01-01\n",
      "Dimensions without coordinates: nbnds\n",
      "Data variables:\n",
      "    time_bnds  (time, nbnds) datetime64[ns] ...\n",
      "    lhtfl      (time, lat, lon) float32 ...\n",
      "Attributes:\n",
      "    Conventions:                     CF-1.0\n",
      "    title:                           Monthly NCEP/DOE Reanalysis 2\n",
      "    comments:                        Data is from \\nNCEP/DOE AMIP-II Reanalys...\n",
      "    platform:                        Model\n",
      "    source:                          NCEP/DOE AMIP-II Reanalysis (Reanalysis-...\n",
      "    institution:                     National Centers for Environmental Predi...\n",
      "    dataset_title:                   NCEP-DOE AMIP-II Reanalysis\n",
      "    References:                      https://www.psl.noaa.gov/data/gridded/da...\n",
      "    source_url:                      http://www.cpc.ncep.noaa.gov/products/we...\n",
      "    history:                         created 2002/03 by Hoop (netCDF2.3)\\nCon...\n",
      "    DODS_EXTRA.Unlimited_Dimension:  time\n"
     ]
    }
   ],
   "source": [
    "with xr.open_dataset(file1) as ds1:\n",
    "    print(ds1)\n",
    "    lh=ds1.lhtfl"
   ]
  },
  {
   "cell_type": "code",
   "execution_count": 74,
   "metadata": {},
   "outputs": [],
   "source": [
    "# Calcuate monthly average temperature at each grid.\n",
    "lh_clim = lh.groupby('time.month').mean(dim='time')\n",
    "print(lh_clim)"
   ]
  },
  {
   "cell_type": "code",
   "execution_count": 80,
   "metadata": {},
   "outputs": [
    {
     "data": {
      "text/plain": [
       "<matplotlib.collections.QuadMesh at 0x11e25ed10>"
      ]
     },
     "execution_count": 80,
     "metadata": {},
     "output_type": "execute_result"
    },
    {
     "data": {
      "image/png": "[encoded data removed]",
      "text/plain": [
       "<Figure size 432x288 with 2 Axes>"
      ]
     },
     "metadata": {
      "needs_background": "light"
     },
     "output_type": "display_data"
    }
   ],
   "source": [
    "# Make a contour plot for January\n",
    "lh_clim.isel(month=0).plot()"
   ]
  },
  {
   "cell_type": "markdown",
   "metadata": {},
   "source": [
    "### Optional exercise\n",
    "Make a contour plot for July"
   ]
  },
  {
   "cell_type": "code",
   "execution_count": null,
   "metadata": {},
   "outputs": [],
   "source": []
  }
 ],
 "metadata": {
  "kernelspec": {
   "display_name": "Python 3",
   "language": "python",
   "name": "python3"
  },
  "language_info": {
   "codemirror_mode": {
    "name": "ipython",
    "version": 3
   },
   "file_extension": ".py",
   "mimetype": "text/x-python",
   "name": "python",
   "nbconvert_exporter": "python",
   "pygments_lexer": "ipython3",
   "version": "3.7.7"
  }
 },
 "nbformat": 4,
 "nbformat_minor": 4
}
